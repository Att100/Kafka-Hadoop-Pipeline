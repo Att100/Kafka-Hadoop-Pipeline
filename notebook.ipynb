{
 "cells": [
  {
   "cell_type": "code",
   "execution_count": 1,
   "metadata": {},
   "outputs": [],
   "source": [
    "from hdfs import InsecureClient"
   ]
  },
  {
   "cell_type": "code",
   "execution_count": 2,
   "metadata": {},
   "outputs": [],
   "source": [
    "client = InsecureClient(\"http://localhost:9870\", user=\"hdfs\", timeout=10)"
   ]
  },
  {
   "cell_type": "code",
   "execution_count": 3,
   "metadata": {},
   "outputs": [
    {
     "data": {
      "text/plain": [
       "['_SUCCESS', 'part-00000']"
      ]
     },
     "execution_count": 3,
     "metadata": {},
     "output_type": "execute_result"
    }
   ],
   "source": [
    "client.list('/output/word_count')"
   ]
  },
  {
   "cell_type": "markdown",
   "metadata": {},
   "source": [
    "add\n",
    "\n",
    "127.0.0.1 datanode1 datanode2 datanode3\n",
    "\n",
    "to hosts file of local machine"
   ]
  },
  {
   "cell_type": "code",
   "execution_count": 4,
   "metadata": {},
   "outputs": [
    {
     "data": {
      "text/plain": [
       "'/home/yijie/Documents/Workspace/Homeworks/MSAI339/Pre/Kafka-Hadoop-Pipeline-local/word_count_res.txt'"
      ]
     },
     "execution_count": 4,
     "metadata": {},
     "output_type": "execute_result"
    }
   ],
   "source": [
    "client.download('/output/word_count/part-00000', './word_count_res.txt')"
   ]
  },
  {
   "cell_type": "code",
   "execution_count": 5,
   "metadata": {},
   "outputs": [],
   "source": [
    "def split_kv_with_multiplespace(line: str):\n",
    "    line = line.strip().replace(\"\\t\", \" \")\n",
    "    p = len(line)-1\n",
    "    count = \"\"\n",
    "    while p >= 0:\n",
    "        if line[p] != \" \":\n",
    "            count += line[p]\n",
    "            p -= 1\n",
    "        else:\n",
    "            break\n",
    "    return line[:p].strip(), int(count[::-1])\n",
    "\n",
    "with open(\"./word_count_res.txt\", 'r') as f:\n",
    "    lines = f.readlines()\n",
    "\n",
    "word_count = dict()\n",
    "for line in lines:\n",
    "    k, v = split_kv_with_multiplespace(line)\n",
    "    word_count[k] = v\n",
    "\n",
    "ranked_count = sorted(word_count.items(), key=lambda x:x[1], reverse=True)\n"
   ]
  },
  {
   "cell_type": "code",
   "execution_count": 6,
   "metadata": {},
   "outputs": [
    {
     "name": "stdout",
     "output_type": "stream",
     "text": [
      "you 925\n",
      "t 715\n",
      "co 559\n",
      "we 544\n",
      "us 450\n",
      "my 413\n",
      "thank 312\n",
      "help 306\n",
      "dm 282\n",
      "me 245\n",
      "s 195\n",
      "hi 194\n",
      "look 170\n",
      "know 146\n",
      "re 145\n",
      "let 138\n",
      "like 136\n",
      "sorri 136\n",
      "send 127\n",
      "account 126\n"
     ]
    }
   ],
   "source": [
    "for k, v in ranked_count[:20]:\n",
    "    print(k, v)"
   ]
  }
 ],
 "metadata": {
  "kernelspec": {
   "display_name": "paddle",
   "language": "python",
   "name": "python3"
  },
  "language_info": {
   "codemirror_mode": {
    "name": "ipython",
    "version": 3
   },
   "file_extension": ".py",
   "mimetype": "text/x-python",
   "name": "python",
   "nbconvert_exporter": "python",
   "pygments_lexer": "ipython3",
   "version": "3.11.4"
  }
 },
 "nbformat": 4,
 "nbformat_minor": 2
}

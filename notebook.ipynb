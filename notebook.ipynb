{
 "cells": [
  {
   "cell_type": "code",
   "execution_count": 1,
   "metadata": {},
   "outputs": [],
   "source": [
    "from jmxquery import JMXConnection, JMXQuery"
   ]
  },
  {
   "cell_type": "code",
   "execution_count": 2,
   "metadata": {},
   "outputs": [],
   "source": [
    "jmxConnection1 = JMXConnection(\"service:jmx:rmi:///jndi/rmi://localhost:19092/jmxrmi\")\n",
    "jmxConnection2 = JMXConnection(\"service:jmx:rmi:///jndi/rmi://localhost:19093/jmxrmi\")\n",
    "jmxConnection3 = JMXConnection(\"service:jmx:rmi:///jndi/rmi://localhost:19094/jmxrmi\")"
   ]
  },
  {
   "cell_type": "code",
   "execution_count": 3,
   "metadata": {},
   "outputs": [],
   "source": [
    "query = JMXQuery(\"kafka.server:type=BrokerTopicMetrics,name=BytesOutPerSec\", attributeKey='OneMinuteRate')"
   ]
  },
  {
   "cell_type": "code",
   "execution_count": null,
   "metadata": {},
   "outputs": [],
   "source": [
    "query = JMXQuery(\"kafka.server:type=BrokerTopicMetrics,name=BytesInPerSec\", attributeKey='OneMinuteRate')"
   ]
  },
  {
   "cell_type": "code",
   "execution_count": null,
   "metadata": {},
   "outputs": [],
   "source": [
    "query = JMXQuery(\"java.lang:type=OperatingSystem\", attributeKey=\"SystemCpuLoad\")"
   ]
  },
  {
   "cell_type": "code",
   "execution_count": 7,
   "metadata": {},
   "outputs": [
    {
     "name": "stdout",
     "output_type": "stream",
     "text": [
      "OneMinuteRate=0.0\n",
      "OneMinuteRate=215.72134850332148\n",
      "OneMinuteRate=0.0\n"
     ]
    }
   ],
   "source": [
    "metrics1 = jmxConnection1.query([query])\n",
    "metrics2 = jmxConnection2.query([query])\n",
    "metrics3 = jmxConnection3.query([query])\n",
    "for metric in metrics1:\n",
    "    print(f\"{metric.to_query_string().split('/')[-1]}={metric.value}\")\n",
    "for metric in metrics2:\n",
    "    print(f\"{metric.to_query_string().split('/')[-1]}={metric.value}\")\n",
    "for metric in metrics3:\n",
    "    print(f\"{metric.to_query_string().split('/')[-1]}={metric.value}\")"
   ]
  },
  {
   "cell_type": "code",
   "execution_count": null,
   "metadata": {},
   "outputs": [],
   "source": [
    "import pyddfs"
   ]
  }
 ],
 "metadata": {
  "kernelspec": {
   "display_name": "paddle",
   "language": "python",
   "name": "python3"
  },
  "language_info": {
   "codemirror_mode": {
    "name": "ipython",
    "version": 3
   },
   "file_extension": ".py",
   "mimetype": "text/x-python",
   "name": "python",
   "nbconvert_exporter": "python",
   "pygments_lexer": "ipython3",
   "version": "3.11.4"
  }
 },
 "nbformat": 4,
 "nbformat_minor": 2
}
